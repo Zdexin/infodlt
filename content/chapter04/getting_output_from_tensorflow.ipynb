{
 "cells": [
  {
   "cell_type": "code",
   "execution_count": 1,
   "metadata": {
    "collapsed": true
   },
   "outputs": [],
   "source": [
    "#Getting output from tensorflow using the session variable\n",
    "# importing the numpy package for generating random variables for\n",
    "# our placeholder x\n",
    "\n",
    "# import TensorFlow package\n",
    "import tensorflow as tf\n",
    "import numpy as np"
   ]
  },
  {
   "cell_type": "code",
   "execution_count": 2,
   "metadata": {
    "collapsed": true
   },
   "outputs": [],
   "source": [
    "# build a TensorFlow variable b taking in initial zeros of size 100\n",
    "# ( a vector of 100 values)\n",
    "b  = tf.Variable(tf.zeros((100,)))\n",
    "# TensorFlow variable uniformly distributed values between -1 and 1\n",
    "# of shape 784 by 100\n",
    "W = tf.Variable(tf.random_uniform((784, 100),-1,1))\n",
    "# TensorFlow placeholder for our input data that doesn't take in\n",
    "# any initial values, it just takes a data type 32 bit floats as\n",
    "# well as its shape\n",
    "x = tf.placeholder(tf.float32, (100, 784))\n",
    "# express h as Tensorflow ReLU of the TensorFlow matrix\n",
    "#Multiplication of x and W and we add b\n",
    "h = tf.nn.relu(tf.matmul(x,W) + b )"
   ]
  },
  {
   "cell_type": "code",
   "execution_count": 3,
   "metadata": {},
   "outputs": [
    {
     "data": {
      "text/plain": [
       "array([[ 0.        , 19.7346    , 10.73309   , ...,  0.        ,\n",
       "         0.9921596 ,  6.2165055 ],\n",
       "       [ 0.        , 22.88913   , 12.2545805 , ...,  0.        ,\n",
       "         2.1577392 ,  9.528563  ],\n",
       "       [ 1.5585791 , 22.14941   , 11.501521  , ...,  6.2937098 ,\n",
       "         0.        ,  1.0038526 ],\n",
       "       ...,\n",
       "       [ 0.        , 33.367798  , 13.655689  , ...,  0.        ,\n",
       "         0.        , 10.022872  ],\n",
       "       [10.457326  , 20.718678  , 13.206295  , ...,  0.        ,\n",
       "         0.        ,  7.796576  ],\n",
       "       [ 0.        , 25.624376  , 19.401505  , ...,  0.        ,\n",
       "         0.        ,  0.83019686]], dtype=float32)"
      ]
     },
     "execution_count": 3,
     "metadata": {},
     "output_type": "execute_result"
    }
   ],
   "source": [
    "# build a TensorFlow session object which takes a default execution\n",
    "# environment which will be most likely a CPU\n",
    "sess = tf.Session()\n",
    "# calling the run function of the sess object to initialize all the\n",
    "# variables.\n",
    "sess.run(tf.global_variables_initializer())\n",
    "# calling the run function on the node that we are interested in,\n",
    "# the h, and we feed in our second argument which is a dictionary\n",
    "# for our placeholder x with the values that we are interested in.\n",
    "sess.run(h, {x: np.random.random((100,784))})"
   ]
  },
  {
   "cell_type": "code",
   "execution_count": 4,
   "metadata": {},
   "outputs": [
    {
     "name": "stdout",
     "output_type": "stream",
     "text": [
      "[array([[10.4, 22. ],\n",
      "       [10.4, 22. ]], dtype=float32)]\n"
     ]
    }
   ],
   "source": [
    "#Another example with placeholders\n",
    "ph_var1 = tf.placeholder(tf.float32,shape=(2,3))\n",
    "ph_var2 = tf.placeholder(tf.float32,shape=(3,2))\n",
    "result = tf.matmul(ph_var1,ph_var2)\n",
    "with tf.Session() as sess:\n",
    "    print(sess.run([result],feed_dict={ph_var1:[[1.,3.,4.],[1.,3.,4.]],ph_var2:[[1., 3.],[3.,1.],[.1,4.]]}))"
   ]
  },
  {
   "cell_type": "code",
   "execution_count": null,
   "metadata": {
    "collapsed": true
   },
   "outputs": [],
   "source": []
  }
 ],
 "metadata": {
  "kernelspec": {
   "display_name": "Python 3",
   "language": "python",
   "name": "python3"
  },
  "language_info": {
   "codemirror_mode": {
    "name": "ipython",
    "version": 3
   },
   "file_extension": ".py",
   "mimetype": "text/x-python",
   "name": "python",
   "nbconvert_exporter": "python",
   "pygments_lexer": "ipython3",
   "version": "3.5.4"
  }
 },
 "nbformat": 4,
 "nbformat_minor": 2
}
